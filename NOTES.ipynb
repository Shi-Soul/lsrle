{
 "cells": [
  {
   "cell_type": "markdown",
   "metadata": {},
   "source": [
    "Write Auto-Reset:\n"
   ]
  },
  {
   "cell_type": "code",
   "execution_count": null,
   "metadata": {},
   "outputs": [],
   "source": [
    "# gymnax/environments/environment.py\n",
    "\n",
    "@functools.partial(jax.jit, static_argnums=(0,))\n",
    "def step(\n",
    "    self,\n",
    "    key: chex.PRNGKey,\n",
    "    state: TEnvState,\n",
    "    action: Union[int, float, chex.Array],\n",
    "    params: Optional[TEnvParams] = None,\n",
    ") -> Tuple[chex.Array, TEnvState, jnp.ndarray, jnp.ndarray, Dict[Any, Any]]:\n",
    "    \"\"\"Performs step transitions in the environment.\"\"\"\n",
    "    # Use default env parameters if no others specified\n",
    "    if params is None:\n",
    "        params = self.default_params\n",
    "    key, key_reset = jax.random.split(key)\n",
    "    obs_st, state_st, reward, done, info = self.step_env(key, state, action, params)\n",
    "    obs_re, state_re = self.reset_env(key_reset, params)\n",
    "    # Auto-reset environment based on termination\n",
    "    \n",
    "    # The `state` is recursively updated to be the reset state if done is True\n",
    "    state = jax.tree_map(\n",
    "        lambda x, y: jax.lax.select(done, x, y), state_re, state_st\n",
    "    )\n",
    "    obs = jax.lax.select(done, obs_re, obs_st)\n",
    "    return obs, state, reward, done, info"
   ]
  },
  {
   "cell_type": "code",
   "execution_count": null,
   "metadata": {},
   "outputs": [],
   "source": []
  }
 ],
 "metadata": {
  "language_info": {
   "name": "python"
  }
 },
 "nbformat": 4,
 "nbformat_minor": 2
}
